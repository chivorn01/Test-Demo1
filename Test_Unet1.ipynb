{
  "nbformat": 4,
  "nbformat_minor": 0,
  "metadata": {
    "colab": {
      "provenance": [],
      "authorship_tag": "ABX9TyP+LIHLE4qwGjXm9jCNCQa9",
      "include_colab_link": true
    },
    "kernelspec": {
      "name": "python3",
      "display_name": "Python 3"
    },
    "language_info": {
      "name": "python"
    }
  },
  "cells": [
    {
      "cell_type": "markdown",
      "metadata": {
        "id": "view-in-github",
        "colab_type": "text"
      },
      "source": [
        "<a href=\"https://colab.research.google.com/github/chivorn01/Test-Demo1/blob/main/Test_Unet1.ipynb\" target=\"_parent\"><img src=\"https://colab.research.google.com/assets/colab-badge.svg\" alt=\"Open In Colab\"/></a>"
      ]
    },
    {
      "cell_type": "code",
      "execution_count": 1,
      "metadata": {
        "id": "HxIpwulTDrf9",
        "colab": {
          "base_uri": "https://localhost:8080/"
        },
        "outputId": "0f4c46b0-3ad4-4dee-8c7e-9284c1a41b22"
      },
      "outputs": [
        {
          "output_type": "stream",
          "name": "stdout",
          "text": [
            "Cloning into 'U-Net-Breast-Cancer-Image-Segmentation'...\n",
            "remote: Enumerating objects: 155, done.\u001b[K\n",
            "remote: Counting objects: 100% (31/31), done.\u001b[K\n",
            "remote: Compressing objects: 100% (30/30), done.\u001b[K\n",
            "remote: Total 155 (delta 14), reused 1 (delta 0), pack-reused 124 (from 1)\u001b[K\n",
            "Receiving objects: 100% (155/155), 7.18 MiB | 16.31 MiB/s, done.\n",
            "Resolving deltas: 100% (75/75), done.\n"
          ]
        }
      ],
      "source": [
        "!git clone https://github.com/Adarsh-K/U-Net-Breast-Cancer-Image-Segmentation.git"
      ]
    },
    {
      "cell_type": "code",
      "source": [
        "!cd /content/U-Net-Breast-Cancer-Image-Segmentation"
      ],
      "metadata": {
        "id": "nZEO4FtBLMbl"
      },
      "execution_count": 3,
      "outputs": []
    },
    {
      "cell_type": "code",
      "source": [
        "!python Main.ipynb"
      ],
      "metadata": {
        "colab": {
          "base_uri": "https://localhost:8080/"
        },
        "id": "VmYOgufmLYpq",
        "outputId": "5b57ad84-9c61-41e9-d22e-f656747f86e6"
      },
      "execution_count": 4,
      "outputs": [
        {
          "output_type": "stream",
          "name": "stdout",
          "text": [
            "python3: can't open file '/content/Main.ipynb': [Errno 2] No such file or directory\n"
          ]
        }
      ]
    }
  ]
}